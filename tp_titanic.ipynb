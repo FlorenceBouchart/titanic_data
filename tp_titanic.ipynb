{
 "cells": [
  {
   "cell_type": "markdown",
   "id": "4485b009-fd96-4bdb-91ff-a818bea8de43",
   "metadata": {},
   "source": [
    "# Titanic"
   ]
  },
  {
   "cell_type": "markdown",
   "id": "13f2ed59-214b-481d-a1d6-b0ccc264aab9",
   "metadata": {},
   "source": [
    "#### Instructions d'exécution : \n",
    "Le fichier csv appelé 'Titanic_data.csv' et celui ci 'tp_titanic.ipynb' doivent être stockés dans un même dossier."
   ]
  },
  {
   "cell_type": "markdown",
   "id": "b31a51b1-6e05-415b-bd98-fbbd4394a49b",
   "metadata": {},
   "source": [
    "#### Préambule\n",
    "En 1912, le Titanic a coulé après avoir percuté un iceberg. \\\n",
    "\\\n",
    "Nous disposons d'un fichier de données concernant les passagers et aimerions rendre compte du type de passagers présents sur le bateau et des facteurs de survie des passagers du bateau en fonction de différents critères tels que l'âge, le sexe, la classe sociale ou encore le prix du ticket afin de déterminer, s'il y en a, les facteurs ayant pu favoriser la survie de certaines catégories de passagers.\\\n",
    "\\\n",
    "Hypothèses : \\\n",
    "\\\n",
    ".    On suppose que les enfants auraient été sauvés en majorité, suivis par les femmes au détriment des hommes.\\\n",
    "\\\n",
    ".    On suppose également que la classe sociale a pu jouer un rôle dans le destin des passagers.\\\n",
    "\\\n",
    ".    On peut également imaginer qu'au sein d'une même classe sociale, une différence de prix d'achat du ticket existe entre les survivants et les victimes. "
   ]
  },
  {
   "cell_type": "markdown",
   "id": "a8ad09ca-ea94-4b9b-a4fb-81ea8427e761",
   "metadata": {},
   "source": [
    "#### Création de la sparksession et importation des fonctions nécessaires pour la suite : "
   ]
  },
  {
   "cell_type": "code",
   "execution_count": 1,
   "id": "54da98c3-040c-496f-9daf-23bcef2a02ae",
   "metadata": {},
   "outputs": [
    {
     "data": {
      "text/html": [
       "\n",
       "            <div>\n",
       "                <p><b>SparkSession - in-memory</b></p>\n",
       "                \n",
       "        <div>\n",
       "            <p><b>SparkContext</b></p>\n",
       "\n",
       "            <p><a href=\"http://host.docker.internal:4040\">Spark UI</a></p>\n",
       "\n",
       "            <dl>\n",
       "              <dt>Version</dt>\n",
       "                <dd><code>v3.5.0</code></dd>\n",
       "              <dt>Master</dt>\n",
       "                <dd><code>local[*]</code></dd>\n",
       "              <dt>AppName</dt>\n",
       "                <dd><code>TP à rendre</code></dd>\n",
       "            </dl>\n",
       "        </div>\n",
       "        \n",
       "            </div>\n",
       "        "
      ],
      "text/plain": [
       "<pyspark.sql.session.SparkSession at 0x1b38619bfd0>"
      ]
     },
     "execution_count": 1,
     "metadata": {},
     "output_type": "execute_result"
    }
   ],
   "source": [
    "from pyspark.sql import SparkSession\n",
    "from pyspark.sql.functions import col, ceil, avg, regexp_replace, isnull\n",
    "\n",
    "from pyspark.sql.types import IntegerType,BooleanType,DateType\n",
    "\n",
    "spark = SparkSession.builder.master(\"local[*]\").appName(\"TP à rendre\").getOrCreate()\n",
    "\n",
    "spark"
   ]
  },
  {
   "cell_type": "markdown",
   "id": "30dbb434-7352-4f89-afab-266d1a88462e",
   "metadata": {},
   "source": [
    "## 1. Importation et lecture du fichier de données concernant les passagers du Titanic en tant que DataFrame et en tant que RDD (utilisation dans le point 10) et description de son contenu."
   ]
  },
  {
   "cell_type": "code",
   "execution_count": 2,
   "id": "9d4d5e5a-f13c-4f72-bf86-10b53e6ce29a",
   "metadata": {},
   "outputs": [
    {
     "name": "stdout",
     "output_type": "stream",
     "text": [
      "+------+--------+--------------------+------+------+-----+-----+--------+--------+-------+--------+----+----+--------------------+\n",
      "|pclass|survived|                name|   sex|   age|sibsp|parch|  ticket|    fare|  cabin|embarked|boat|body|           home.dest|\n",
      "+------+--------+--------------------+------+------+-----+-----+--------+--------+-------+--------+----+----+--------------------+\n",
      "|     1|       1|Allen, Miss. Elis...|female|    29|    0|    0|   24160|211,3375|     B5|       S|   2|NULL|        St Louis, MO|\n",
      "|     1|       1|Allison, Master. ...|  male|0,9167|    1|    2|  113781|151,5500|C22 C26|       S|  11|NULL|Montreal, PQ / Ch...|\n",
      "|     1|       0|Allison, Miss. He...|female|     2|    1|    2|  113781|151,5500|C22 C26|       S|NULL|NULL|Montreal, PQ / Ch...|\n",
      "|     1|       0|Allison, Mr. Huds...|  male|    30|    1|    2|  113781|151,5500|C22 C26|       S|NULL| 135|Montreal, PQ / Ch...|\n",
      "|     1|       0|Allison, Mrs. Hud...|female|    25|    1|    2|  113781|151,5500|C22 C26|       S|NULL|NULL|Montreal, PQ / Ch...|\n",
      "|     1|       1| Anderson, Mr. Harry|  male|    48|    0|    0|   19952| 26,5500|    E12|       S|   3|NULL|        New York, NY|\n",
      "|     1|       1|Andrews, Miss. Ko...|female|    63|    1|    0|   13502| 77,9583|     D7|       S|  10|NULL|          Hudson, NY|\n",
      "|     1|       0|Andrews, Mr. Thom...|  male|    39|    0|    0|  112050|  0,0000|    A36|       S|NULL|NULL|         Belfast, NI|\n",
      "|     1|       1|Appleton, Mrs. Ed...|female|    53|    2|    0|   11769| 51,4792|   C101|       S|   D|NULL| Bayside, Queens, NY|\n",
      "|     1|       0|Artagaveytia, Mr....|  male|    71|    0|    0|PC 17609| 49,5042|   NULL|       C|NULL|  22| Montevideo, Uruguay|\n",
      "|     1|       0|Astor, Col. John ...|  male|    47|    1|    0|PC 17757|227,5250|C62 C64|       C|NULL| 124|        New York, NY|\n",
      "|     1|       1|Astor, Mrs. John ...|female|    18|    1|    0|PC 17757|227,5250|C62 C64|       C|   4|NULL|        New York, NY|\n",
      "|     1|       1|Aubart, Mme. Leon...|female|    24|    0|    0|PC 17477| 69,3000|    B35|       C|   9|NULL|       Paris, France|\n",
      "|     1|       1|\"Barber, Miss. El...|female|    26|    0|    0|   19877| 78,8500|   NULL|       S|   6|NULL|                NULL|\n",
      "|     1|       1|Barkworth, Mr. Al...|  male|    80|    0|    0|   27042| 30,0000|    A23|       S|   B|NULL|       Hessle, Yorks|\n",
      "|     1|       0| Baumann, Mr. John D|  male|  NULL|    0|    0|PC 17318| 25,9250|   NULL|       S|NULL|NULL|        New York, NY|\n",
      "|     1|       0|Baxter, Mr. Quigg...|  male|    24|    0|    1|PC 17558|247,5208|B58 B60|       C|NULL|NULL|        Montreal, PQ|\n",
      "|     1|       1|Baxter, Mrs. Jame...|female|    50|    0|    1|PC 17558|247,5208|B58 B60|       C|   6|NULL|        Montreal, PQ|\n",
      "|     1|       1|Bazzani, Miss. Al...|female|    32|    0|    0|   11813| 76,2917|    D15|       C|   8|NULL|                NULL|\n",
      "|     1|       0|Beattie, Mr. Thomson|  male|    36|    0|    0|   13050| 75,2417|     C6|       C|   A|NULL|        Winnipeg, MN|\n",
      "+------+--------+--------------------+------+------+-----+-----+--------+--------+-------+--------+----+----+--------------------+\n",
      "only showing top 20 rows\n",
      "\n"
     ]
    }
   ],
   "source": [
    "df_titanic = spark.read.csv('./titanic_data.csv', header = True, sep = ';')\n",
    "rdd = spark.sparkContext.textFile(\"./Titanic_data.csv\")\n",
    "df_titanic.show()"
   ]
  },
  {
   "cell_type": "markdown",
   "id": "935d60c3-9750-4ab0-8c45-048ed7f3b7b2",
   "metadata": {},
   "source": [
    "#### Affichage du contenu de chaque colonne\n"
   ]
  },
  {
   "cell_type": "code",
   "execution_count": 3,
   "id": "1fbeafd7-6e5b-4092-af9c-209235a79c03",
   "metadata": {},
   "outputs": [
    {
     "name": "stdout",
     "output_type": "stream",
     "text": [
      "pclass  :  The ticket class of the passenger, which can be 1st (1), 2nd (2), or 3rd (3) class.\n",
      "survived  :  A binary variable indicating whether the passenger survived (1) or did not survive (0).\n",
      "name  :  The name of the passenger\n",
      "sex  :  The gender of the passenger (male or female)\n",
      "age  :  The age of the passenger in years, it may contain missing values\n",
      "sibsp  :  The number of siblings or spouses the passenger had aboard the Titanic\n",
      "parch  :  The number of parents or children the passenger had aboard the Titanic.\n",
      "ticket  :  The ticket number\n",
      "fare  :  The amount of money the passenger paid for the ticket.\n",
      "cabin  :  The cabin number where the passenger stayed. It may contain missing values\n",
      "embarked  :  The port at which the passenger boarded the Titanic (C for Cherbourg, Q for Queenstown, S for Southampton\n",
      "boat  :  The boat which rescued the passenger.\n",
      "body  :  Id of the body\n",
      "home.dest  :  Where the passenger wanted to stay after his trip.\n"
     ]
    }
   ],
   "source": [
    "df_titanic.columns\n",
    "\n",
    "columns_convert = {'pclass': 'The ticket class of the passenger, which can be 1st (1), 2nd (2), or 3rd (3) class.',\n",
    "'survived' : 'A binary variable indicating whether the passenger survived (1) or did not survive (0).',\n",
    "'name' : 'The name of the passenger',\n",
    "'sex' : 'The gender of the passenger (male or female)',\n",
    "'age' : 'The age of the passenger in years, it may contain missing values',\n",
    "'sibsp' : 'The number of siblings or spouses the passenger had aboard the Titanic',\n",
    "'parch' : 'The number of parents or children the passenger had aboard the Titanic.',\n",
    "'ticket' : 'The ticket number',\n",
    "'fare' : 'The amount of money the passenger paid for the ticket.',\n",
    "'cabin' : 'The cabin number where the passenger stayed. It may contain missing values',\n",
    "'embarked' : 'The port at which the passenger boarded the Titanic (C for Cherbourg, Q for Queenstown, S for Southampton',\n",
    "'boat' : 'The boat which rescued the passenger.',\n",
    "'body' : 'Id of the body',\n",
    "'home.dest' : 'Where the passenger wanted to stay after his trip.'}\n",
    "for key, value in columns_convert.items() : \n",
    "    print(key, ' : ', value)\n"
   ]
  },
  {
   "cell_type": "markdown",
   "id": "acfab2cf-37ad-4cc6-ac07-348e94bceee8",
   "metadata": {},
   "source": [
    "## 2. Nettoyage des données\n",
    "Les passagers dont l'âge n'est pas indiqué risquent de perturber les prochains résultats donc on préfère les retirer pour les calculs à suivre."
   ]
  },
  {
   "cell_type": "code",
   "execution_count": 4,
   "id": "0c37805f-213a-4ac1-a128-be2fa39ac9f2",
   "metadata": {},
   "outputs": [],
   "source": [
    "df_titanic = df_titanic.na.drop(subset=['age'])"
   ]
  },
  {
   "cell_type": "markdown",
   "id": "95d6df2c-0a66-42b9-9545-faed9b06a286",
   "metadata": {},
   "source": [
    "## 3. Statistiques générales sur les passagers : "
   ]
  },
  {
   "cell_type": "code",
   "execution_count": 5,
   "id": "3f66a8d2-0f3b-484c-9d1d-7ccbc7a75c59",
   "metadata": {},
   "outputs": [
    {
     "name": "stdout",
     "output_type": "stream",
     "text": [
      "Sur le nombre total de passagers, on constate : \n",
      "     Pourcentage total de femmes :  33.08 %.\n",
      "     Pourcentage total d'hommes :  57.93 %.\n",
      "     Pourcentage total d'enfants :  13.29 %.\n",
      "     Nombre de personnes survivantes :  427  sur un total de  1046  passagers\n",
      "     Nombre de victimes :  619  sur un total de  1046  passagers\n",
      "     Taux de mortalité dû à la catastrophe :  59.18 %.\n",
      "     Taux de survie à la catastrophe :  40.82 %.\n"
     ]
    }
   ],
   "source": [
    "print('Sur le nombre total de passagers, on constate : ',)\n",
    "print(\"     Pourcentage total de femmes : \", round(df_titanic.filter((df_titanic['sex'] == 'female') & (df_titanic['age'] >= '18')).count() *100 / df_titanic.count(),2), \"%.\")\n",
    "print(\"     Pourcentage total d'hommes : \",round(df_titanic.filter((df_titanic['sex'] == 'male') & (df_titanic['age'] >= '18')).count() *100 / df_titanic.count(),2), \"%.\")\n",
    "print(\"     Pourcentage total d'enfants : \",round(df_titanic.filter('age < 18').count() *100 / df_titanic.count(),2), \"%.\")\n",
    "print('     Nombre de personnes survivantes : ',df_titanic.filter('survived == 1').count(),' sur un total de ',df_titanic.count(), ' passagers')\n",
    "print('     Nombre de victimes : ', df_titanic.filter('survived == 0').count(),' sur un total de ',df_titanic.count(), ' passagers')\n",
    "print('     Taux de mortalité dû à la catastrophe : ', round(df_titanic.filter('survived == 0').count()*100 / df_titanic.count(),2), '%.')\n",
    "print('     Taux de survie à la catastrophe : ', round(df_titanic.filter('survived == 1').count()*100 / df_titanic.count(),2), '%.')"
   ]
  },
  {
   "cell_type": "markdown",
   "id": "48b463ca-f858-4494-9717-4630c66e4f69",
   "metadata": {},
   "source": [
    "## 4. Pour les comparaisons à venir, on caste les colonnes age et fare de str en float dans les colonnes age_int et fare_int"
   ]
  },
  {
   "cell_type": "code",
   "execution_count": 6,
   "id": "df5c0cd8-9eba-40e8-8a7e-09f313a9196b",
   "metadata": {},
   "outputs": [],
   "source": [
    "df_titanic = df_titanic.withColumn('age', regexp_replace('age',',','.') )\n",
    "df_titanic = df_titanic.withColumn('age_int', df_titanic['age'].cast('float'))\n",
    "\n",
    "df_titanic = df_titanic.withColumn('fare', regexp_replace('fare',',','.') )\n",
    "df_titanic = df_titanic.withColumn('fare_int', df_titanic['fare'].cast('float'))\n"
   ]
  },
  {
   "cell_type": "markdown",
   "id": "d85394b6-66e5-4418-b56e-ce2cddf1fd98",
   "metadata": {},
   "source": [
    "## 5. Moyennes d'âge en fonction des différentes catégories (général, hommes, femmes, enfants) chez les survivants et les victimes"
   ]
  },
  {
   "cell_type": "code",
   "execution_count": 7,
   "id": "742d6556-dcab-496a-8fdb-ca32a6401404",
   "metadata": {},
   "outputs": [
    {
     "name": "stdout",
     "output_type": "stream",
     "text": [
      "+-----------------------+\n",
      "|Age moyen des passagers|\n",
      "+-----------------------+\n",
      "|     29.881134512433587|\n",
      "+-----------------------+\n",
      "\n",
      "+------------------------+\n",
      "|Age moyen des survivants|\n",
      "+------------------------+\n",
      "|      28.918228103070405|\n",
      "+------------------------+\n",
      "\n",
      "+----------------------+\n",
      "|Age moyen des victimes|\n",
      "+----------------------+\n",
      "|    30.545368820669577|\n",
      "+----------------------+\n",
      "\n",
      "+---------------------+\n",
      "|Age moyen des enfants|\n",
      "+---------------------+\n",
      "|    9.101731818217736|\n",
      "+---------------------+\n",
      "\n",
      "+--------------------------------+\n",
      "|Age moyen des enfants survivants|\n",
      "+--------------------------------+\n",
      "|               8.013375308778551|\n",
      "+--------------------------------+\n",
      "\n",
      "+-----------------------------+\n",
      "|Age moyen des enfants décédés|\n",
      "+-----------------------------+\n",
      "|           10.309360273896832|\n",
      "+-----------------------------+\n",
      "\n",
      "+--------------------+\n",
      "|Age moyen des hommes|\n",
      "+--------------------+\n",
      "|          33.6328125|\n",
      "+--------------------+\n",
      "\n",
      "+-------------------------------+\n",
      "|Age moyen des hommes survivants|\n",
      "+-------------------------------+\n",
      "|              33.32211538461539|\n",
      "+-------------------------------+\n",
      "\n",
      "+----------------------------+\n",
      "|Age moyen des hommes décédés|\n",
      "+----------------------------+\n",
      "|           33.70127118644068|\n",
      "+----------------------------+\n",
      "\n",
      "+--------------------+\n",
      "|Age moyen des femmes|\n",
      "+--------------------+\n",
      "|   33.16930379746835|\n",
      "+--------------------+\n",
      "\n",
      "+--------------------------------+\n",
      "|Age moyen des femmes survivantes|\n",
      "+--------------------------------+\n",
      "|               34.02272727272727|\n",
      "+--------------------------------+\n",
      "\n",
      "+-----------------------------+\n",
      "|Age moyen des femmes décédées|\n",
      "+-----------------------------+\n",
      "|            30.37837837837838|\n",
      "+-----------------------------+\n",
      "\n"
     ]
    }
   ],
   "source": [
    "df_titanic.select(avg(col(\"age_int\")).alias('Age moyen des passagers')).show()\n",
    "df_titanic.filter(df_titanic['survived'] =='1').select(avg(col(\"age_int\")).alias('Age moyen des survivants')).show()\n",
    "df_titanic.filter(df_titanic['survived'] =='0').select(avg(col(\"age_int\")).alias('Age moyen des victimes')).show()\n",
    "\n",
    "df_titanic.filter(df_titanic['age_int'] <18).select(avg(col(\"age_int\")).alias('Age moyen des enfants')).show()\n",
    "df_titanic.filter((df_titanic['age_int'] <18) & (df_titanic['survived'] == '1')).select(avg(col(\"age_int\")).alias('Age moyen des enfants survivants')).show()\n",
    "df_titanic.filter((df_titanic['age_int'] <18) & (df_titanic['survived'] == '0')).select(avg(col(\"age_int\")).alias('Age moyen des enfants décédés')).show()\n",
    "\n",
    "df_titanic.filter((df_titanic['age_int'] >=18) & (df_titanic['sex'] == 'male')).select(avg(col(\"age_int\")).alias('Age moyen des hommes')).show()\n",
    "df_titanic.filter((df_titanic['age_int'] >=18) & (df_titanic['sex'] == 'male') & (df_titanic['survived'] == '1')).select(avg(col(\"age_int\")).alias('Age moyen des hommes survivants')).show()\n",
    "df_titanic.filter((df_titanic['age_int'] >=18) & (df_titanic['sex'] == 'male') & (df_titanic['survived'] == '0')).select(avg(col(\"age_int\")).alias('Age moyen des hommes décédés')).show()\n",
    "\n",
    "df_titanic.filter((df_titanic['age_int'] >=18) & (df_titanic['sex'] == 'female')).select(avg(col(\"age_int\")).alias('Age moyen des femmes')).show()\n",
    "df_titanic.filter((df_titanic['age_int'] >=18) & (df_titanic['sex'] == 'female') & (df_titanic['survived'] == '1')).select(avg(col(\"age_int\")).alias('Age moyen des femmes survivantes')).show()\n",
    "df_titanic.filter((df_titanic['age_int'] >=18) & (df_titanic['sex'] == 'female') & (df_titanic['survived'] == '0')).select(avg(col(\"age_int\")).alias('Age moyen des femmes décédées')).show()"
   ]
  },
  {
   "cell_type": "markdown",
   "id": "f72c8728-df10-486f-866f-2d79a99d4870",
   "metadata": {},
   "source": [
    "## 6. Taux de mortalité chez les adultes, en fonction du sexe des adultes et chez les enfants "
   ]
  },
  {
   "cell_type": "code",
   "execution_count": 8,
   "id": "037788bf-9de6-4232-8ebe-c8787330a613",
   "metadata": {},
   "outputs": [
    {
     "name": "stdout",
     "output_type": "stream",
     "text": [
      "47.4 % des enfants sont décédés dans la catastrophe.\n",
      "61.21 % des adultes sont décédés dans la catastrophe.\n",
      "23.42 % des femmes sont décédées dans la catastrophe.\n",
      "81.94 % des hommes sont décédés dans la catastrophe.\n",
      "\n",
      "Parmi les survivants, on constate :  242  femmes et  104  hommes et  81 enfants.\n",
      "     Soit un ratio de  60.66 % de femmes parmi les survivants,  28.1 % d'hommes et 11.24 % d'enfants.\n",
      "\n",
      "Parmi les victimes, on constate :  87  femmes et  486  hommes et  46 enfants.\n",
      "     Soit un ratio de  14.05 % de femmes parmi les victimes,  78.51 % d'hommes et 7.43 % d'enfants.\n"
     ]
    }
   ],
   "source": [
    "print(round(df_titanic.filter((df_titanic['age_int'] < '18') & (df_titanic['survived'] =='0')).count()*100 / df_titanic.filter((df_titanic['age_int'] < '18') ).count(),2), \"% des enfants sont décédés dans la catastrophe.\")\n",
    "\n",
    "print(round(df_titanic.filter((df_titanic['age_int'] >= '18') & (df_titanic['survived'] =='0')).count()*100 / df_titanic.filter((df_titanic['age_int'] >= '18') ).count(),2), \"% des adultes sont décédés dans la catastrophe.\")\n",
    "\n",
    "print(round(df_titanic.filter((df_titanic['age_int'] >= '18') & (df_titanic['survived'] =='0') & (df_titanic['sex'] == 'female')).count()*100 / df_titanic.filter((df_titanic['age_int'] >= '18') &  (df_titanic['sex'] == 'female')).count(),2), \"% des femmes sont décédées dans la catastrophe.\")\n",
    "\n",
    "print(round(df_titanic.filter((df_titanic['age_int'] >= '18') & (df_titanic['survived'] =='0') & (df_titanic['sex'] == 'male')).count()*100 / df_titanic.filter((df_titanic['age_int'] >= '18') &  (df_titanic['sex'] == 'male')).count(),2), \"% des hommes sont décédés dans la catastrophe.\")\n",
    "\n",
    "print(\"\")\n",
    "\n",
    "print('Parmi les survivants, on constate : ',df_titanic.filter((df_titanic['age_int'] >= '18') & (df_titanic['survived'] == '1') & (df_titanic['sex'] == 'female')).count(), ' femmes et ',df_titanic.filter((df_titanic['age_int'] >= '18') & (df_titanic['survived'] =='1') & (df_titanic['sex'] == 'male')).count(), ' hommes et ',df_titanic.filter((df_titanic['age_int'] < '18') & (df_titanic['survived'] =='1')).count(), 'enfants.' )\n",
    "\n",
    "print('     Soit un ratio de ', round(df_titanic.filter((df_titanic['age'] >= '18') & (df_titanic['survived'] == '1') & (df_titanic['sex'] == 'female')).count()*100 / df_titanic.filter('survived ==1').count(),2), '% de femmes parmi les survivants, ', round(df_titanic.filter((df_titanic['age'] >= '18') & (df_titanic['survived'] =='1') & (df_titanic['sex'] == 'male')).count()*100 / df_titanic.filter('survived ==1').count(),2),\"% d'hommes et\", round(df_titanic.filter((df_titanic['age'] < '18') & (df_titanic['survived'] =='1')).count()*100 / df_titanic.filter('survived ==1').count(),2) , \"% d'enfants.\")\n",
    "\n",
    "print(\"\")\n",
    "\n",
    "print('Parmi les victimes, on constate : ',df_titanic.filter((df_titanic['age'] >= '18') & (df_titanic['survived'] == '0') & (df_titanic['sex'] == 'female')).count(), ' femmes et ',df_titanic.filter((df_titanic['age'] >= '18') & (df_titanic['survived'] =='0') & (df_titanic['sex'] == 'male')).count(), ' hommes et ',df_titanic.filter((df_titanic['age'] < '18') & (df_titanic['survived'] =='0')).count(), 'enfants.' )\n",
    "\n",
    "print('     Soit un ratio de ', round(df_titanic.filter((df_titanic['age'] >= '18') & (df_titanic['survived'] == '0') & (df_titanic['sex'] == 'female')).count()*100 / df_titanic.filter('survived ==0').count(),2), '% de femmes parmi les victimes, ', round(df_titanic.filter((df_titanic['age'] >= '18') & (df_titanic['survived'] =='0') & (df_titanic['sex'] == 'male')).count()*100 / df_titanic.filter('survived ==0').count(),2),\"% d'hommes et\", round(df_titanic.filter((df_titanic['age'] < '18') & (df_titanic['survived'] =='0')).count()*100 / df_titanic.filter('survived ==0').count(),2) , \"% d'enfants.\")\n",
    "\n"
   ]
  },
  {
   "cell_type": "markdown",
   "id": "a5b2445b-bf7b-455b-aaf4-074a84dd4ea5",
   "metadata": {},
   "source": [
    "## 7. Calcul du prix moyen payé par ticket en fonction de la classe sociale"
   ]
  },
  {
   "cell_type": "code",
   "execution_count": 9,
   "id": "94a19a4f-caac-478b-a3c1-67043a35f9ee",
   "metadata": {},
   "outputs": [
    {
     "name": "stdout",
     "output_type": "stream",
     "text": [
      "+--------------------------------------------------+\n",
      "|Montant moyen payé pour un ticket première classe.|\n",
      "+--------------------------------------------------+\n",
      "|                                 92.22935866637968|\n",
      "+--------------------------------------------------+\n",
      "\n"
     ]
    }
   ],
   "source": [
    "df_titanic.filter(df_titanic['pclass'] == '1').select(avg(col(\"fare_int\")).alias('Montant moyen payé pour un ticket première classe.')).show()"
   ]
  },
  {
   "cell_type": "code",
   "execution_count": 10,
   "id": "cfd78cf4-f1e6-46aa-85ff-d57cec77444a",
   "metadata": {},
   "outputs": [
    {
     "name": "stdout",
     "output_type": "stream",
     "text": [
      "+-------------------------------------------------+\n",
      "|Montant moyen payé pour un ticket seconde classe.|\n",
      "+-------------------------------------------------+\n",
      "|                               21.855044474546936|\n",
      "+-------------------------------------------------+\n",
      "\n"
     ]
    }
   ],
   "source": [
    "df_titanic.filter(df_titanic['pclass'] == '2').select(avg(col(\"fare_int\")).alias('Montant moyen payé pour un ticket seconde classe.')).show()"
   ]
  },
  {
   "cell_type": "code",
   "execution_count": 11,
   "id": "e0a8aee5-08f4-4213-8556-e9ad05fe030c",
   "metadata": {},
   "outputs": [
    {
     "name": "stdout",
     "output_type": "stream",
     "text": [
      "+---------------------------------------------------+\n",
      "|Montant moyen payé pour un ticket troisième classe.|\n",
      "+---------------------------------------------------+\n",
      "|                                 12.879299092769623|\n",
      "+---------------------------------------------------+\n",
      "\n"
     ]
    }
   ],
   "source": [
    "df_titanic.filter((df_titanic['pclass'] == '3')).select(avg(col(\"fare_int\")).alias('Montant moyen payé pour un ticket troisième classe.')).show()"
   ]
  },
  {
   "cell_type": "markdown",
   "id": "886734f9-6ba4-44b4-a50f-a8d6aec7d247",
   "metadata": {},
   "source": [
    "## 8. Comparaison du prix moyen payé en général et pour chaque classe chez les survivants et chez les victimes"
   ]
  },
  {
   "cell_type": "markdown",
   "id": "0ff5431c-14c5-4e62-b78b-4daf95f6e103",
   "metadata": {},
   "source": [
    "#### Première classe"
   ]
  },
  {
   "cell_type": "markdown",
   "id": "decc051b-7c48-41a8-8a16-bf0f10fc7122",
   "metadata": {},
   "source": [
    "##### Prix moyen première classe"
   ]
  },
  {
   "cell_type": "code",
   "execution_count": 12,
   "id": "d482c169-3c0c-4090-b3d1-a793b2bf74d8",
   "metadata": {},
   "outputs": [
    {
     "name": "stdout",
     "output_type": "stream",
     "text": [
      "+--------------------------------------------------+\n",
      "|Montant moyen payé pour un ticket première classe.|\n",
      "+--------------------------------------------------+\n",
      "|                                 92.22935866637968|\n",
      "+--------------------------------------------------+\n",
      "\n"
     ]
    }
   ],
   "source": [
    "df_titanic.filter(df_titanic['pclass'] == '1').select(avg(col(\"fare_int\")).alias('Montant moyen payé pour un ticket première classe.')).show()"
   ]
  },
  {
   "cell_type": "markdown",
   "id": "499e85b0-14ec-40d7-891d-c4a1829fb594",
   "metadata": {},
   "source": [
    "##### Prix moyen première classe pour les survivants"
   ]
  },
  {
   "cell_type": "code",
   "execution_count": 13,
   "id": "b1c7c91f-2a62-40c3-b24e-f63a70660587",
   "metadata": {},
   "outputs": [
    {
     "name": "stdout",
     "output_type": "stream",
     "text": [
      "+---------------------------------------------------------------------+\n",
      "|Montant moyen payé par les survivants pour un ticket première classe.|\n",
      "+---------------------------------------------------------------------+\n",
      "|                                                   102.21699151940109|\n",
      "+---------------------------------------------------------------------+\n",
      "\n"
     ]
    }
   ],
   "source": [
    "df_titanic.filter((df_titanic['pclass'] == '1') & (df_titanic['survived'] == '1') ).select(avg(col(\"fare_int\")).alias('Montant moyen payé par les survivants pour un ticket première classe.')).show()"
   ]
  },
  {
   "cell_type": "markdown",
   "id": "4806aa21-87e8-4bca-b6fd-288633fd2356",
   "metadata": {},
   "source": [
    "##### Prix moyen première classe pour les victimes"
   ]
  },
  {
   "cell_type": "code",
   "execution_count": 14,
   "id": "13380840-551c-4ab7-ba72-80c7b2eff853",
   "metadata": {},
   "outputs": [
    {
     "name": "stdout",
     "output_type": "stream",
     "text": [
      "+---------------------------------------------------------------------+\n",
      "|Montant moyen payé par les survivants pour un ticket première classe.|\n",
      "+---------------------------------------------------------------------+\n",
      "|                                                    74.67827569165276|\n",
      "+---------------------------------------------------------------------+\n",
      "\n"
     ]
    }
   ],
   "source": [
    "df_titanic.filter((df_titanic['pclass'] == '1') & (df_titanic['survived'] == '0') ).select(avg(col(\"fare_int\")).alias('Montant moyen payé par les survivants pour un ticket première classe.')).show()"
   ]
  },
  {
   "cell_type": "markdown",
   "id": "49eb863f-d775-4030-a513-ef1a2c9a18e5",
   "metadata": {},
   "source": [
    "#### Seconde classe"
   ]
  },
  {
   "cell_type": "markdown",
   "id": "f88e4a3b-b87c-4ee1-b2cf-90559400d3c7",
   "metadata": {},
   "source": [
    "##### Prix moyen seconde classe"
   ]
  },
  {
   "cell_type": "code",
   "execution_count": 15,
   "id": "c36d39a2-1ffe-4197-9c81-7f5b3e3b99a7",
   "metadata": {},
   "outputs": [
    {
     "name": "stdout",
     "output_type": "stream",
     "text": [
      "+-------------------------------------------------+\n",
      "|Montant moyen payé pour un ticket seconde classe.|\n",
      "+-------------------------------------------------+\n",
      "|                               21.855044474546936|\n",
      "+-------------------------------------------------+\n",
      "\n"
     ]
    }
   ],
   "source": [
    "df_titanic.filter(df_titanic['pclass'] == '2').select(avg(col(\"fare_int\")).alias('Montant moyen payé pour un ticket seconde classe.')).show()"
   ]
  },
  {
   "cell_type": "markdown",
   "id": "eab5f47a-f3d3-4731-9468-9cc83cc1d6b1",
   "metadata": {},
   "source": [
    "##### Prix moyen seconde classe pour les survivants"
   ]
  },
  {
   "cell_type": "code",
   "execution_count": 16,
   "id": "14115cea-df5c-4f89-8077-9aae63e57da2",
   "metadata": {},
   "outputs": [
    {
     "name": "stdout",
     "output_type": "stream",
     "text": [
      "+-------------------------------------------------+\n",
      "|Montant moyen payé pour un ticket seconde classe.|\n",
      "+-------------------------------------------------+\n",
      "|                               23.180471345652705|\n",
      "+-------------------------------------------------+\n",
      "\n"
     ]
    }
   ],
   "source": [
    "df_titanic.filter((df_titanic['pclass'] == '2') & (df_titanic['survived'] == '1')).select(avg(col(\"fare_int\")).alias('Montant moyen payé pour un ticket seconde classe.')).show()"
   ]
  },
  {
   "cell_type": "markdown",
   "id": "00ba248c-c09f-4bcf-bbb3-49cc70087bd0",
   "metadata": {},
   "source": [
    "##### Prix moyen seconde classe pour les victimes"
   ]
  },
  {
   "cell_type": "code",
   "execution_count": 17,
   "id": "0e11e1c5-19b2-4d94-a910-bf86cf7e8018",
   "metadata": {},
   "outputs": [
    {
     "name": "stdout",
     "output_type": "stream",
     "text": [
      "+-------------------------------------------------+\n",
      "|Montant moyen payé pour un ticket seconde classe.|\n",
      "+-------------------------------------------------+\n",
      "|                               20.811043856895132|\n",
      "+-------------------------------------------------+\n",
      "\n"
     ]
    }
   ],
   "source": [
    "df_titanic.filter((df_titanic['pclass'] == '2') & (df_titanic['survived'] == '0')).select(avg(col(\"fare_int\")).alias('Montant moyen payé pour un ticket seconde classe.')).show()"
   ]
  },
  {
   "cell_type": "markdown",
   "id": "68d401e1-cb9f-49ce-816e-15c83b4e7fc5",
   "metadata": {},
   "source": [
    "#### Troisième classe"
   ]
  },
  {
   "cell_type": "markdown",
   "id": "b0729fbd-1b71-4a00-8b34-505f12112188",
   "metadata": {},
   "source": [
    "##### Prix moyen troisième classe"
   ]
  },
  {
   "cell_type": "code",
   "execution_count": 18,
   "id": "e64584a9-7e72-45f9-a744-e61d70568c63",
   "metadata": {},
   "outputs": [
    {
     "name": "stdout",
     "output_type": "stream",
     "text": [
      "+---------------------------------------------------+\n",
      "|Montant moyen payé pour un ticket troisième classe.|\n",
      "+---------------------------------------------------+\n",
      "|                                 12.879299092769623|\n",
      "+---------------------------------------------------+\n",
      "\n"
     ]
    }
   ],
   "source": [
    "df_titanic.filter(df_titanic['pclass'] == '3').select(avg(col(\"fare_int\")).alias('Montant moyen payé pour un ticket troisième classe.')).show()"
   ]
  },
  {
   "cell_type": "markdown",
   "id": "640efe01-3a22-473b-84e7-84bf00f2aea8",
   "metadata": {},
   "source": [
    "##### Prix moyen troisième classe pour les survivants"
   ]
  },
  {
   "cell_type": "code",
   "execution_count": 19,
   "id": "142a7d2a-f1c2-41af-a974-b232ca99eb48",
   "metadata": {},
   "outputs": [
    {
     "name": "stdout",
     "output_type": "stream",
     "text": [
      "+---------------------------------------------------+\n",
      "|Montant moyen payé pour un ticket troisième classe.|\n",
      "+---------------------------------------------------+\n",
      "|                                 12.427448958840989|\n",
      "+---------------------------------------------------+\n",
      "\n"
     ]
    }
   ],
   "source": [
    "df_titanic.filter((df_titanic['pclass'] == '3') & (df_titanic['survived'] == '1')).select(avg(col(\"fare_int\")).alias('Montant moyen payé pour un ticket troisième classe.')).show()"
   ]
  },
  {
   "cell_type": "markdown",
   "id": "e8793be9-b1dd-40ef-aaa4-b70f6729e7c6",
   "metadata": {},
   "source": [
    "##### Prix moyen troisième classe pour les victimes"
   ]
  },
  {
   "cell_type": "code",
   "execution_count": 20,
   "id": "49c35c4b-0751-4e4e-83d9-cff6569150a6",
   "metadata": {},
   "outputs": [
    {
     "name": "stdout",
     "output_type": "stream",
     "text": [
      "+---------------------------------------------------+\n",
      "|Montant moyen payé pour un ticket troisième classe.|\n",
      "+---------------------------------------------------+\n",
      "|                                 13.039712012944829|\n",
      "+---------------------------------------------------+\n",
      "\n"
     ]
    }
   ],
   "source": [
    "df_titanic.filter((df_titanic['pclass'] == '3') & (df_titanic['survived'] == '0')).select(avg(col(\"fare_int\")).alias('Montant moyen payé pour un ticket troisième classe.')).show()"
   ]
  },
  {
   "cell_type": "markdown",
   "id": "40b042dc-07a5-464d-8dc8-8199bad9a37b",
   "metadata": {},
   "source": [
    "## 9. Taux de survie en fonction de la classe sociale\n"
   ]
  },
  {
   "cell_type": "markdown",
   "id": "f2d1a12e-ca27-4e26-aa97-ed4d6ebd092b",
   "metadata": {},
   "source": [
    "#### Taux de survie des première classe"
   ]
  },
  {
   "cell_type": "code",
   "execution_count": 21,
   "id": "42b3b9aa-9793-46d5-93b7-ebc237e42bb5",
   "metadata": {},
   "outputs": [
    {
     "name": "stdout",
     "output_type": "stream",
     "text": [
      "Taux de survie des passagers de première classe :  63.73 %.\n"
     ]
    }
   ],
   "source": [
    "print('Taux de survie des passagers de première classe : ', round(df_titanic.filter((df_titanic['pclass'] == 1) & (df_titanic['survived'] == 1)).count() *100 / df_titanic.filter(df_titanic['pclass'] == 1).count(),2), \"%.\")"
   ]
  },
  {
   "cell_type": "markdown",
   "id": "6a17d4d1-8f69-436f-8753-322dc05430db",
   "metadata": {},
   "source": [
    "#### Taux de survie des seconde classe"
   ]
  },
  {
   "cell_type": "code",
   "execution_count": 22,
   "id": "7fc4b3bb-878c-4676-9d7a-91d85933db40",
   "metadata": {},
   "outputs": [
    {
     "name": "stdout",
     "output_type": "stream",
     "text": [
      "Taux de survie des passagers de seconde classe :  44.06 %.\n"
     ]
    }
   ],
   "source": [
    "print('Taux de survie des passagers de seconde classe : ', round(df_titanic.filter((df_titanic['pclass'] == 2) & (df_titanic['survived'] == 1)).count() *100 / df_titanic.filter(df_titanic['pclass'] == 2).count(),2), \"%.\")"
   ]
  },
  {
   "cell_type": "markdown",
   "id": "e5eba82b-4f40-4f11-811a-880231decf56",
   "metadata": {},
   "source": [
    "#### Taux de survie des troisième classe"
   ]
  },
  {
   "cell_type": "code",
   "execution_count": 23,
   "id": "58267204-e7b1-4146-8b5b-561378ccea2d",
   "metadata": {},
   "outputs": [
    {
     "name": "stdout",
     "output_type": "stream",
     "text": [
      "Taux de survie des passagers de troisième classe :  26.15 %.\n"
     ]
    }
   ],
   "source": [
    "print('Taux de survie des passagers de troisième classe : ', round(df_titanic.filter((df_titanic['pclass'] == 3) & (df_titanic['survived'] == 1)).count() *100 / df_titanic.filter(df_titanic['pclass'] == 3).count(),2), \"%.\")"
   ]
  },
  {
   "cell_type": "code",
   "execution_count": 24,
   "id": "5774fcc6-2700-4da2-95ed-8aadc301c5ec",
   "metadata": {},
   "outputs": [
    {
     "ename": "TypeError",
     "evalue": "'DataFrame' object is not callable",
     "output_type": "error",
     "traceback": [
      "\u001b[1;31m---------------------------------------------------------------------------\u001b[0m",
      "\u001b[1;31mTypeError\u001b[0m                                 Traceback (most recent call last)",
      "Cell \u001b[1;32mIn[24], line 2\u001b[0m\n\u001b[0;32m      1\u001b[0m \u001b[38;5;66;03m# Pourcentage de survivants ayant embarqué sur un canot \u001b[39;00m\n\u001b[1;32m----> 2\u001b[0m \u001b[38;5;28mprint\u001b[39m((df_titanic\u001b[38;5;241m.\u001b[39mfilter(df_titanic[\u001b[38;5;124m'\u001b[39m\u001b[38;5;124msurvived\u001b[39m\u001b[38;5;124m'\u001b[39m] \u001b[38;5;241m==\u001b[39m \u001b[38;5;241m1\u001b[39m) (df_titanic[\u001b[38;5;124m'\u001b[39m\u001b[38;5;124mboat\u001b[39m\u001b[38;5;124m'\u001b[39m])))\n",
      "\u001b[1;31mTypeError\u001b[0m: 'DataFrame' object is not callable"
     ]
    }
   ],
   "source": [
    "# Pourcentage de survivants ayant embarqué sur un canot \n",
    "print((df_titanic.filter(df_titanic['survived'] == 1) (df_titanic['boat'])))\n",
    "      #*100 / df_titanic.filter(df_titanic['survived'] == 1).count(),2))\n",
    "\n",
    "# Nombre de personnes par canot (GroupBy)\n",
    "\n",
    "\n"
   ]
  },
  {
   "cell_type": "code",
   "execution_count": null,
   "id": "d8f4b0cf-a131-4b6b-9531-ef1a74c4d02a",
   "metadata": {},
   "outputs": [],
   "source": []
  },
  {
   "cell_type": "markdown",
   "id": "cb61653d-9044-4583-b282-c8030ff3d2b2",
   "metadata": {},
   "source": [
    "## 10. Retour sur le nettoyage des données et la relativité des résultats induite par l'absence de certaines d'entre elles"
   ]
  },
  {
   "cell_type": "code",
   "execution_count": 25,
   "id": "4929f469-b5c7-497c-b8c3-164cb88dd875",
   "metadata": {},
   "outputs": [
    {
     "name": "stdout",
     "output_type": "stream",
     "text": [
      "Nombre de passagers initial :  1311\n",
      "Nombre de passagers pris en compte dans cette étude :  1046\n",
      "Nombre de passagers non pris en compte en raison d'absence d'informations sur leur âge :  265 \n",
      " Soit :  20.21 % des passagers présents à bord non pris en compte.\n"
     ]
    }
   ],
   "source": [
    "print(\"Nombre de passagers initial : \",rdd.count())\n",
    "print(\"Nombre de passagers pris en compte dans cette étude : \",df_titanic.count())\n",
    "print(\"Nombre de passagers non pris en compte en raison d'absence d'informations sur leur âge : \",(rdd.count()) - (df_titanic.count()), \"\\n Soit : \", round((rdd.count() - df_titanic.count())*100/(rdd.count()),2), \"% des passagers présents à bord non pris en compte.\") "
   ]
  },
  {
   "cell_type": "markdown",
   "id": "724561a0-4d39-4af0-89f3-b27de4140ec5",
   "metadata": {},
   "source": [
    "# Conclusions"
   ]
  },
  {
   "cell_type": "markdown",
   "id": "bc6d2465-95d8-4637-ad1d-199f4b0e5d2c",
   "metadata": {},
   "source": [
    "On constate un taux de survie général de 40,82%.\\\n",
    "On ne note pas de différence d'âge entre les survivants et les victimes de manière générale, cependant les enfants survivants ont autour de 8 ans tandis que les enfants décédés ont autour de 10 ans, donc plus âgés. \\\n",
    "Les femmes ayant survécu ont en moyenne 34 ans tandis que celles ayant péri ont en moyenne 30 ans donc plus jeunes.\\\n",
    "Les hommes, quant à eux, survivants comme victimes, ont en moyenne 33 ans.\\\n",
    "\\\n",
    "La moitié des enfants ont été sauvés.\\\n",
    "3/4 à 4/5èmes des femmes ont survécu.\\\n",
    "En revanche, seuls 20% des hommes ont été sauvés.\\\n",
    "\\\n",
    "En ce qui concerne le prix des tickets : \\\n",
    "Le ticket de première classe coûtait en moyenne 92,22 £. Les survivants l'ayant en moyenne payé plus cher (102 £) que les victimes (74 £).\\\n",
    "En seconde classe, il coûtait en moyenne 21,85 £ ; 23 £ chez les survivants contre 20 £ chez les victimes.\\\n",
    "Enfin, en troisième classe, le ticket a été payé 12,88 £ en moyenne ; 12,42 £ chez les survivants et 13 £ chez les victimes.\\\n",
    "\\\n",
    "On note que le taux de survie varie énormément en fonction de la classe sociale.\\\n",
    "63.73% chez les première classe, 44.06% chez les seconde classe et seulement 26.15% chez les première classe."
   ]
  },
  {
   "cell_type": "markdown",
   "id": "3d547253-ea26-481a-8f64-4e49dc1f0dc4",
   "metadata": {},
   "source": [
    "##### On supposait que les enfants auraient été sauvés en majorité, suivis par les femmes au détriment des hommes.\n",
    "Ce n'est pas le cas, ce sont les femmes qui ont été sauvées en majorité, puis les enfants. Cependant, cela s'est effectivement fait au détriment des hommes car 80% d'entre eux sont décédés dans le naufrage.\n",
    "\n",
    "##### On supposait également que la classe sociale ait pu jouer un rôle dans le destin des passagers.\n",
    "C'est le cas, on a remarqué qu'un taux de survie élevé était nettement corrélé à une classe sociale haute.  \n",
    "\n",
    "##### On supposait qu'au sein d'une même classe sociale, une différence de prix d'achat du ticket existait entre les survivants et les victimes. \n",
    "Effectivement, c'est le cas, mais surtout chez les première classe, ça ne l'est pas chez les troisième classe et très peu chez les seconde classe.\n",
    "\n",
    "\n",
    "\n",
    "\n",
    "\n"
   ]
  },
  {
   "cell_type": "markdown",
   "id": "e3d90a84-bcf2-4e52-a7a1-0ec89a974890",
   "metadata": {},
   "source": [
    "Cette étude est à relativiser car sur le jeu de données utilisé, 20% des passagers réellement présents n'ont pas été pris en compte car leur âge n'était pas donné pour plus de praticité."
   ]
  },
  {
   "cell_type": "code",
   "execution_count": null,
   "id": "dc8e0a16-e756-40cb-862b-1503d662a97c",
   "metadata": {},
   "outputs": [],
   "source": []
  }
 ],
 "metadata": {
  "kernelspec": {
   "display_name": "Python 3 (ipykernel)",
   "language": "python",
   "name": "python3"
  },
  "language_info": {
   "codemirror_mode": {
    "name": "ipython",
    "version": 3
   },
   "file_extension": ".py",
   "mimetype": "text/x-python",
   "name": "python",
   "nbconvert_exporter": "python",
   "pygments_lexer": "ipython3",
   "version": "3.11.7"
  }
 },
 "nbformat": 4,
 "nbformat_minor": 5
}
